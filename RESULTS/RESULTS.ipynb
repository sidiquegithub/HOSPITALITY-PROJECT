{
 "cells": [
  {
   "cell_type": "markdown",
   "id": "38b7c1f4",
   "metadata": {},
   "source": [
    "## <font color = Blue > RESULTS"
   ]
  },
  {
   "cell_type": "code",
   "execution_count": null,
   "id": "d1a25eb4",
   "metadata": {},
   "outputs": [],
   "source": []
  }
 ],
 "metadata": {
  "kernelspec": {
   "display_name": "Python 3 (ipykernel)",
   "language": "python",
   "name": "python3"
  },
  "language_info": {
   "codemirror_mode": {
    "name": "ipython",
    "version": 3
   },
   "file_extension": ".py",
   "mimetype": "text/x-python",
   "name": "python",
   "nbconvert_exporter": "python",
   "pygments_lexer": "ipython3",
   "version": "3.7.15"
  }
 },
 "nbformat": 4,
 "nbformat_minor": 5
}
